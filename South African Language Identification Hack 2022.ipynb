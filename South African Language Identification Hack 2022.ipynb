{
 "cells": [
  {
   "cell_type": "markdown",
   "id": "707aa9c4",
   "metadata": {},
   "source": [
    "# South African Language Identification Hack 2022"
   ]
  },
  {
   "cell_type": "markdown",
   "id": "fff0e3bf",
   "metadata": {},
   "source": [
    "<a id=\"cont\"></a>\n",
    "\n",
    "## Table of contents\n",
    "\n",
    "<a href=#one>1. Introduction</a>\n",
    "\n",
    "<a href=#two>2. Importing Packages</a>\n",
    "\n",
    "<a href=#three>3. Loading Data</a>\n",
    "\n",
    "<a href=#four>4. Exploratory Data Analysis</a>\n",
    "\n",
    "<a href=#five>5. Feature Engineering</a>\n",
    "\n",
    "<a href=#six>6. Model Building</a>\n",
    "\n",
    "<a href=#seven>7. Model Evaluation</a>\n",
    "\n",
    "<a href=#eight>8. Kaggle Model Submission</a>\n"
   ]
  },
  {
   "cell_type": "markdown",
   "id": "f61448fe",
   "metadata": {},
   "source": [
    "# 1.1 Introduction"
   ]
  },
  {
   "cell_type": "markdown",
   "id": "cdce8934",
   "metadata": {},
   "source": [
    "South Africa is a multicultural society that is characterised by its rich linguistic diversity. Language is an indispensable\n",
    "tool that can be used to deepen democracy and also contribute to the social, cultural, intellectual, economic and\n",
    "political life of the South African society. With such a multilingual population, it is only obvious that our systems and\n",
    "devices also communicate in multi-languages.\n",
    "\n",
    "In this challenge,we will text which is in any of South Africa's 11 Official languages and identify which\n",
    "language the text is in."
   ]
  },
  {
   "cell_type": "markdown",
   "id": "68ec7932",
   "metadata": {},
   "source": [
    "# 1.2 The Dataset\n",
    "\n",
    "## Dataset Description\n",
    "\n",
    "The dataset used for this challenge is the NCHLT Text Corpora collected by the South African Department of Arts and Culture & Centre for Text Technology (CTexT, North-West University, South Africa). The training set was improved through additional cleaning done by Praekelt.\n",
    "\n",
    "The data is in the form Language ID, Text. The text is in various states of cleanliness. Some NLP techniques will be necessary to clean up the data.\n",
    "\n",
    "## File descriptions\n",
    "\n",
    "* `train_set.csv` - the training set\n",
    "\n",
    "* `test_set.csv` - the test set\n",
    "\n",
    "### Language IDs\n",
    "\n",
    "* `afr` - Afrikaans\n",
    "\n",
    "* `eng` - English\n",
    "\n",
    "* `nbl` - isiNdebele\n",
    "\n",
    "* `nso` - Sepedi\n",
    "\n",
    "* `sot` - Sesotho\n",
    "\n",
    "* `ssw` - siSwati\n",
    "\n",
    "* `tsn` - Setswana\n",
    "\n",
    "* `tso` - Xitsonga\n",
    "\n",
    "* `ven` - Tshivenda\n",
    "\n",
    "* `xho` - isiXhosa\n",
    "\n",
    "* `zul` - isiZulu"
   ]
  },
  {
   "cell_type": "markdown",
   "id": "13a8ac28",
   "metadata": {},
   "source": [
    "<a id=\"one\"></a>\n",
    " ## 2. Importing Packages\n",
    " <a href=#cont>Back to Table of Contents</a>\n",
    "\n",
    " ---\n",
    "    \n",
    "| ⚡ Description: Importing Packages ⚡ |\n",
    "| :--------------------------- |\n",
    "| In this section, necessary packages to be used throughout the notebook are imported, and briefly discussed. |\n",
    "| The imported libraries are used in the following stages of the data science process : data cleaning, exploratory data analysis and data modelling. |\n",
    "\n",
    "---"
   ]
  },
  {
   "cell_type": "code",
   "execution_count": 13,
   "id": "13710901",
   "metadata": {},
   "outputs": [],
   "source": [
    "import string \n",
    "import re\n",
    "import numpy as np \n",
    "import pandas as pd\n",
    "import seaborn as sns\n",
    "import matplotlib.pyplot as plt\n",
    "from sklearn import feature_extraction\n",
    "from sklearn import linear_model\n",
    "from sklearn.naive_bayes import MultinomialNB\n",
    "from sklearn.linear_model import LogisticRegression\n",
    "from sklearn.tree import DecisionTreeClassifier\n",
    "from sklearn.ensemble import RandomForestClassifier\n",
    "from sklearn import pipeline\n",
    "from sklearn.model_selection import train_test_split\n",
    "from sklearn import metrics\n",
    "import itertools"
   ]
  },
  {
   "cell_type": "markdown",
   "id": "e7c2a777",
   "metadata": {},
   "source": [
    " <a id=\"one\"></a>\n",
    " ## 3. Loading Data\n",
    "<a href=#cont>Back to Table of Contents</a>\n",
    "\n",
    "---\n",
    "    \n",
    "| ⚡ Description: Loading the data ⚡ |\n",
    "| :--------------------------- |\n",
    "| In this section, the datasets to be used in the modelling process are loaded into DataFrames using the pandas library. |\n",
    "\n",
    "---"
   ]
  },
  {
   "cell_type": "code",
   "execution_count": 2,
   "id": "ab0f097e",
   "metadata": {},
   "outputs": [],
   "source": [
    "train_df=pd.read_csv('train_set.csv')\n",
    "test_df=pd.read_csv('test_set.csv')"
   ]
  },
  {
   "cell_type": "code",
   "execution_count": 3,
   "id": "4bb49e58",
   "metadata": {
    "scrolled": true
   },
   "outputs": [
    {
     "data": {
      "text/html": [
       "<div>\n",
       "<style scoped>\n",
       "    .dataframe tbody tr th:only-of-type {\n",
       "        vertical-align: middle;\n",
       "    }\n",
       "\n",
       "    .dataframe tbody tr th {\n",
       "        vertical-align: top;\n",
       "    }\n",
       "\n",
       "    .dataframe thead th {\n",
       "        text-align: right;\n",
       "    }\n",
       "</style>\n",
       "<table border=\"1\" class=\"dataframe\">\n",
       "  <thead>\n",
       "    <tr style=\"text-align: right;\">\n",
       "      <th></th>\n",
       "      <th>lang_id</th>\n",
       "      <th>text</th>\n",
       "    </tr>\n",
       "  </thead>\n",
       "  <tbody>\n",
       "    <tr>\n",
       "      <th>0</th>\n",
       "      <td>xho</td>\n",
       "      <td>umgaqo-siseko wenza amalungiselelo kumaziko ax...</td>\n",
       "    </tr>\n",
       "    <tr>\n",
       "      <th>1</th>\n",
       "      <td>xho</td>\n",
       "      <td>i-dha iya kuba nobulumko bokubeka umsebenzi na...</td>\n",
       "    </tr>\n",
       "    <tr>\n",
       "      <th>2</th>\n",
       "      <td>eng</td>\n",
       "      <td>the province of kwazulu-natal department of tr...</td>\n",
       "    </tr>\n",
       "    <tr>\n",
       "      <th>3</th>\n",
       "      <td>nso</td>\n",
       "      <td>o netefatša gore o ba file dilo ka moka tše le...</td>\n",
       "    </tr>\n",
       "    <tr>\n",
       "      <th>4</th>\n",
       "      <td>ven</td>\n",
       "      <td>khomishini ya ndinganyiso ya mbeu yo ewa maana...</td>\n",
       "    </tr>\n",
       "  </tbody>\n",
       "</table>\n",
       "</div>"
      ],
      "text/plain": [
       "  lang_id                                               text\n",
       "0     xho  umgaqo-siseko wenza amalungiselelo kumaziko ax...\n",
       "1     xho  i-dha iya kuba nobulumko bokubeka umsebenzi na...\n",
       "2     eng  the province of kwazulu-natal department of tr...\n",
       "3     nso  o netefatša gore o ba file dilo ka moka tše le...\n",
       "4     ven  khomishini ya ndinganyiso ya mbeu yo ewa maana..."
      ]
     },
     "execution_count": 3,
     "metadata": {},
     "output_type": "execute_result"
    }
   ],
   "source": [
    "train_df.head()"
   ]
  },
  {
   "cell_type": "code",
   "execution_count": 4,
   "id": "caef5a93",
   "metadata": {
    "scrolled": true
   },
   "outputs": [
    {
     "data": {
      "text/html": [
       "<div>\n",
       "<style scoped>\n",
       "    .dataframe tbody tr th:only-of-type {\n",
       "        vertical-align: middle;\n",
       "    }\n",
       "\n",
       "    .dataframe tbody tr th {\n",
       "        vertical-align: top;\n",
       "    }\n",
       "\n",
       "    .dataframe thead th {\n",
       "        text-align: right;\n",
       "    }\n",
       "</style>\n",
       "<table border=\"1\" class=\"dataframe\">\n",
       "  <thead>\n",
       "    <tr style=\"text-align: right;\">\n",
       "      <th></th>\n",
       "      <th>lang_id</th>\n",
       "      <th>text</th>\n",
       "    </tr>\n",
       "  </thead>\n",
       "  <tbody>\n",
       "    <tr>\n",
       "      <th>32995</th>\n",
       "      <td>tsn</td>\n",
       "      <td>popo ya dipolateforomo tse ke go tlisa boetele...</td>\n",
       "    </tr>\n",
       "    <tr>\n",
       "      <th>32996</th>\n",
       "      <td>sot</td>\n",
       "      <td>modise mosadi na o ntse o sa utlwe hore thaban...</td>\n",
       "    </tr>\n",
       "    <tr>\n",
       "      <th>32997</th>\n",
       "      <td>eng</td>\n",
       "      <td>closing date for the submission of completed t...</td>\n",
       "    </tr>\n",
       "    <tr>\n",
       "      <th>32998</th>\n",
       "      <td>xho</td>\n",
       "      <td>nawuphina umntu ofunyenwe enetyala phantsi kwa...</td>\n",
       "    </tr>\n",
       "    <tr>\n",
       "      <th>32999</th>\n",
       "      <td>sot</td>\n",
       "      <td>mafapha a mang le ona a lokela ho etsa ditlale...</td>\n",
       "    </tr>\n",
       "  </tbody>\n",
       "</table>\n",
       "</div>"
      ],
      "text/plain": [
       "      lang_id                                               text\n",
       "32995     tsn  popo ya dipolateforomo tse ke go tlisa boetele...\n",
       "32996     sot  modise mosadi na o ntse o sa utlwe hore thaban...\n",
       "32997     eng  closing date for the submission of completed t...\n",
       "32998     xho  nawuphina umntu ofunyenwe enetyala phantsi kwa...\n",
       "32999     sot  mafapha a mang le ona a lokela ho etsa ditlale..."
      ]
     },
     "execution_count": 4,
     "metadata": {},
     "output_type": "execute_result"
    }
   ],
   "source": [
    "train_df.tail()"
   ]
  },
  {
   "cell_type": "markdown",
   "id": "9eb9b55b",
   "metadata": {},
   "source": [
    "<a id=\"one\"></a>\n",
    " ## 4. Exploratory Data Analysis\n",
    " \n",
    " <a href=#cont>Back to Table of Contents</a>\n",
    "\n",
    "---\n",
    "    \n",
    "| ⚡ Description: Exploratory data analysis ⚡ |\n",
    "| :--------------------------- |\n",
    "| In this section, an in-depth analysis of all the variables in the DataFrame is performed. |\n",
    "| This phase of the project cycle is very important; it offers insight into the data, and any underlying patterns within it, |\n",
    "| as well as any errors, duplicates or outliers present. |\n",
    "| It is essential in understanding the data objectively and guides the data pre-processing and modelling processes. |\n",
    "| The investigations conducted include: the dimensionality of the data, the descriptive statistics, data completeness, | \n",
    "| data distribution, existence of outliers and duplicates, as well as tweet entity extraction, analysis and visualisation.|\n",
    "\n",
    "---\n",
    "\n"
   ]
  },
  {
   "cell_type": "code",
   "execution_count": 5,
   "id": "cd14c883",
   "metadata": {},
   "outputs": [
    {
     "data": {
      "text/html": [
       "<div>\n",
       "<style scoped>\n",
       "    .dataframe tbody tr th:only-of-type {\n",
       "        vertical-align: middle;\n",
       "    }\n",
       "\n",
       "    .dataframe tbody tr th {\n",
       "        vertical-align: top;\n",
       "    }\n",
       "\n",
       "    .dataframe thead th {\n",
       "        text-align: right;\n",
       "    }\n",
       "</style>\n",
       "<table border=\"1\" class=\"dataframe\">\n",
       "  <thead>\n",
       "    <tr style=\"text-align: right;\">\n",
       "      <th></th>\n",
       "      <th>lang_id</th>\n",
       "      <th>text</th>\n",
       "    </tr>\n",
       "  </thead>\n",
       "  <tbody>\n",
       "    <tr>\n",
       "      <th>count</th>\n",
       "      <td>33000</td>\n",
       "      <td>33000</td>\n",
       "    </tr>\n",
       "    <tr>\n",
       "      <th>unique</th>\n",
       "      <td>11</td>\n",
       "      <td>29948</td>\n",
       "    </tr>\n",
       "    <tr>\n",
       "      <th>top</th>\n",
       "      <td>xho</td>\n",
       "      <td>ngokwesekhtjheni yomthetho ophathelene nalokhu...</td>\n",
       "    </tr>\n",
       "    <tr>\n",
       "      <th>freq</th>\n",
       "      <td>3000</td>\n",
       "      <td>17</td>\n",
       "    </tr>\n",
       "  </tbody>\n",
       "</table>\n",
       "</div>"
      ],
      "text/plain": [
       "       lang_id                                               text\n",
       "count    33000                                              33000\n",
       "unique      11                                              29948\n",
       "top        xho  ngokwesekhtjheni yomthetho ophathelene nalokhu...\n",
       "freq      3000                                                 17"
      ]
     },
     "execution_count": 5,
     "metadata": {},
     "output_type": "execute_result"
    }
   ],
   "source": [
    "train_df.describe(include='all')"
   ]
  },
  {
   "cell_type": "code",
   "execution_count": 9,
   "id": "a7240171",
   "metadata": {},
   "outputs": [
    {
     "name": "stdout",
     "output_type": "stream",
     "text": [
      "<class 'pandas.core.frame.DataFrame'>\n",
      "RangeIndex: 33000 entries, 0 to 32999\n",
      "Data columns (total 2 columns):\n",
      " #   Column   Non-Null Count  Dtype \n",
      "---  ------   --------------  ----- \n",
      " 0   lang_id  33000 non-null  object\n",
      " 1   text     33000 non-null  object\n",
      "dtypes: object(2)\n",
      "memory usage: 515.8+ KB\n"
     ]
    }
   ],
   "source": [
    "train_df.info()"
   ]
  },
  {
   "cell_type": "code",
   "execution_count": 6,
   "id": "2fa48070",
   "metadata": {
    "scrolled": true
   },
   "outputs": [
    {
     "data": {
      "text/plain": [
       "lang_id    0\n",
       "text       0\n",
       "dtype: int64"
      ]
     },
     "execution_count": 6,
     "metadata": {},
     "output_type": "execute_result"
    }
   ],
   "source": [
    "#check for null rows\n",
    "train_df.isnull().sum()"
   ]
  },
  {
   "cell_type": "markdown",
   "id": "f7b4384c",
   "metadata": {},
   "source": [
    "There are 11 different languages in this dataset, so let's check the value count for each language"
   ]
  },
  {
   "cell_type": "code",
   "execution_count": 7,
   "id": "f5e3dfae",
   "metadata": {
    "scrolled": true
   },
   "outputs": [
    {
     "data": {
      "image/png": "[encoded data removed]",
      "text/plain": [
       "<Figure size 432x288 with 1 Axes>"
      ]
     },
     "metadata": {
      "needs_background": "light"
     },
     "output_type": "display_data"
    }
   ],
   "source": [
    "train_df['lang_id'].value_counts().plot.barh();"
   ]
  },
  {
   "cell_type": "markdown",
   "id": "a17a25e9",
   "metadata": {},
   "source": [
    "The label class is balanced as we can see so we do not need to resample it. Let go ahead with our feature engineering"
   ]
  },
  {
   "cell_type": "markdown",
   "id": "a3d5febe",
   "metadata": {},
   "source": [
    " <a id=\"one\"></a>\n",
    " ## 5. Feature Engineering\n",
    "<a href=#cont>Back to Table of Contents</a>\n",
    "\n",
    "### 5.1 Text Cleaning\n",
    "\n",
    "Removing noise (i.e. unneccesary information) is a key part of getting the data into a usable format.  For this dataset, we will be carrying out the following cleaning techniques:\n",
    "\n",
    "* removing the web urls(if any)\n",
    "\n",
    "* converting all text into lowercase\n",
    "\n",
    "* removing punctuation marks\n",
    "\n",
    "* removing stopwords from tweets"
   ]
  },
  {
   "cell_type": "code",
   "execution_count": 10,
   "id": "17779809",
   "metadata": {
    "scrolled": false
   },
   "outputs": [
    {
     "data": {
      "text/html": [
       "<div>\n",
       "<style scoped>\n",
       "    .dataframe tbody tr th:only-of-type {\n",
       "        vertical-align: middle;\n",
       "    }\n",
       "\n",
       "    .dataframe tbody tr th {\n",
       "        vertical-align: top;\n",
       "    }\n",
       "\n",
       "    .dataframe thead th {\n",
       "        text-align: right;\n",
       "    }\n",
       "</style>\n",
       "<table border=\"1\" class=\"dataframe\">\n",
       "  <thead>\n",
       "    <tr style=\"text-align: right;\">\n",
       "      <th></th>\n",
       "      <th>lang_id</th>\n",
       "      <th>text</th>\n",
       "    </tr>\n",
       "  </thead>\n",
       "  <tbody>\n",
       "  </tbody>\n",
       "</table>\n",
       "</div>"
      ],
      "text/plain": [
       "Empty DataFrame\n",
       "Columns: [lang_id, text]\n",
       "Index: []"
      ]
     },
     "execution_count": 10,
     "metadata": {},
     "output_type": "execute_result"
    }
   ],
   "source": [
    "#let us check for rows with URL links\n",
    "pattern_url = r'http[s]?://(?:[A-Za-z]|[0-9]|[$-_@.&+]|[!*\\(\\),]|(?:%[0-9A-Fa-f][0-9A-Fa-f]))+'\n",
    "train_df.loc[train_df['text'].str.contains(pattern_url, regex=True )] "
   ]
  },
  {
   "cell_type": "markdown",
   "id": "aa831db6",
   "metadata": {},
   "source": [
    "there seem to be no URl in this dataset."
   ]
  },
  {
   "cell_type": "code",
   "execution_count": 11,
   "id": "4dfa60ac",
   "metadata": {},
   "outputs": [],
   "source": [
    "#Convert the text into lower case\n",
    "train_df['text'] = train_df['text'].str.lower() \n",
    "test_df['text'] = test_df['text'].str.lower() "
   ]
  },
  {
   "cell_type": "code",
   "execution_count": 14,
   "id": "5b11a89a",
   "metadata": {},
   "outputs": [],
   "source": [
    "#Remove punctuation marks from the dataset\n",
    "def punc_remover(text):\n",
    "    return ''.join([l for l in text if l not in string.punctuation])\n",
    "\n",
    "train_df['text'] = train_df['text'].apply(punc_remover)\n",
    "test_df['text'] = test_df['text'].apply(punc_remover)"
   ]
  },
  {
   "cell_type": "markdown",
   "id": "57d38356",
   "metadata": {},
   "source": [
    "## 5.2 Feature Extraction"
   ]
  },
  {
   "cell_type": "code",
   "execution_count": 15,
   "id": "2dc509a8",
   "metadata": {},
   "outputs": [],
   "source": [
    "#separate to features and columns\n",
    "corpus = train_df['text']\n",
    "y = train_df['lang_id']\n",
    "corpus_test=test_df['text']"
   ]
  },
  {
   "cell_type": "markdown",
   "id": "fbfd693e",
   "metadata": {},
   "source": [
    "### Label Encoding\n",
    "Our output variable, `lang_id` is a categorical variable. For training the model we should have to convert it into a numerical form, so we are performing label encoding on that output variable. For this process, we are importing LabelEncoder from sklearn."
   ]
  },
  {
   "cell_type": "code",
   "execution_count": 16,
   "id": "075f6dd9",
   "metadata": {},
   "outputs": [],
   "source": [
    "from sklearn.preprocessing import LabelEncoder\n",
    "le = LabelEncoder()\n",
    "y = le.fit_transform(y)"
   ]
  },
  {
   "cell_type": "markdown",
   "id": "721859c0",
   "metadata": {},
   "source": [
    "### Bag of Words\n",
    "The output feature and also the input feature should be of the numerical form. So we are converting text into numerical form by creating a Bag of Words model using `CountVectorizer`."
   ]
  },
  {
   "cell_type": "code",
   "execution_count": 17,
   "id": "51690d7e",
   "metadata": {
    "scrolled": true
   },
   "outputs": [
    {
     "name": "stdout",
     "output_type": "stream",
     "text": [
      "(33000, 144198)\n",
      "(5682, 144198)\n"
     ]
    }
   ],
   "source": [
    "from sklearn.feature_extraction.text import CountVectorizer\n",
    "cv = CountVectorizer()\n",
    "X= cv.fit_transform(corpus)\n",
    "X_pred=cv.transform(corpus_test)\n",
    "\n",
    "print(X.shape)\n",
    "print(X_pred.shape)"
   ]
  },
  {
   "cell_type": "markdown",
   "id": "062a1840",
   "metadata": {},
   "source": [
    "### Train Test Splitting\n",
    "\n",
    "The next step is to create the training set, for training the model and test set, for evaluating the test set. For this process, we are using a train test split."
   ]
  },
  {
   "cell_type": "code",
   "execution_count": 18,
   "id": "1860d49d",
   "metadata": {},
   "outputs": [],
   "source": [
    "from sklearn.model_selection import train_test_split\n",
    "X_train, X_test, y_train, y_test = train_test_split(X, y, test_size = 0.20)"
   ]
  },
  {
   "cell_type": "markdown",
   "id": "f7798107",
   "metadata": {},
   "source": [
    "<a id=\"one\"></a>\n",
    " ## 6. Model Building\n",
    " <a href=#cont>Back to Table of Contents</a>\n",
    "\n",
    "Finally! The sweet stuff!\n",
    "\n",
    "In this section, we shall;\n",
    "\n",
    "* Build machine learning models\n",
    "\n",
    "* Fit the machine learning models with training data"
   ]
  },
  {
   "cell_type": "markdown",
   "id": "e3628753",
   "metadata": {},
   "source": [
    "For this dataset, we will be using the naive_bayes algorithm for our model creation. "
   ]
  },
  {
   "cell_type": "code",
   "execution_count": 19,
   "id": "9e4abf09",
   "metadata": {},
   "outputs": [],
   "source": [
    "from sklearn.naive_bayes import MultinomialNB\n",
    "model = MultinomialNB()\n",
    "model.fit(X_train, y_train)\n",
    "y_pred = model.predict(X_test)"
   ]
  },
  {
   "cell_type": "markdown",
   "id": "df62edfc",
   "metadata": {},
   "source": [
    "<a id=\"one\"></a>\n",
    " ## 7. Model Evaluation\n",
    " <a href=#cont>Back to Table of Contents</a>\n",
    "\n",
    "Let us take a look at the performance of our model."
   ]
  },
  {
   "cell_type": "code",
   "execution_count": 20,
   "id": "563b0dc8",
   "metadata": {
    "scrolled": false
   },
   "outputs": [
    {
     "name": "stdout",
     "output_type": "stream",
     "text": [
      "Accuracy is : 0.9993939393939394\n"
     ]
    }
   ],
   "source": [
    "from sklearn.metrics import accuracy_score, confusion_matrix, classification_report\n",
    "ac = accuracy_score(y_test, y_pred)\n",
    "cm = confusion_matrix(y_test, y_pred)\n",
    "\n",
    "print(\"Accuracy is :\",ac)"
   ]
  },
  {
   "cell_type": "markdown",
   "id": "117b38b3",
   "metadata": {},
   "source": [
    "Our model performed quite well with an accuracy score of 99.9% which is pretty incredible. let's now build a confusion matrix of our predictions"
   ]
  },
  {
   "cell_type": "code",
   "execution_count": 23,
   "id": "b2f470dc",
   "metadata": {},
   "outputs": [
    {
     "name": "stdout",
     "output_type": "stream",
     "text": [
      "Confusion matrix: \n",
      " [[632   0   0   0   0   0   0   0   0   0   0]\n",
      " [  0 607   0   0   0   0   0   0   0   0   0]\n",
      " [  0   0 622   0   0   0   0   0   0   0   2]\n",
      " [  0   0   0 626   1   0   0   0   0   0   0]\n",
      " [  0   0   0   0 624   0   0   0   0   0   0]\n",
      " [  0   0   0   0   0 575   0   0   0   0   0]\n",
      " [  0   0   0   0   0   0 560   0   0   0   0]\n",
      " [  0   0   0   0   0   0   0 615   0   0   0]\n",
      " [  0   0   0   0   0   0   0   0 584   0   0]\n",
      " [  0   0   0   0   0   0   0   0   0 540   0]\n",
      " [  0   1   0   0   0   0   0   0   0   0 611]]\n"
     ]
    }
   ],
   "source": [
    "matrix = metrics.confusion_matrix(y_test, y_pred)\n",
    "print('Confusion matrix: \\n', matrix)"
   ]
  },
  {
   "cell_type": "code",
   "execution_count": 24,
   "id": "24a29341",
   "metadata": {},
   "outputs": [],
   "source": [
    "def plot_confusion_matrix(cm, classes,\n",
    "                          normalize=False,\n",
    "                          title='Actual labels',\n",
    "                          cmap=plt.cm.Blues):\n",
    "    \"\"\"   \n",
    "    This function prints and plots the confusion matrix.\n",
    "    Normalization can be applied by setting `normalize=True`.\n",
    "    \"\"\"\n",
    "    plt.imshow(cm, interpolation='nearest', cmap=cmap)\n",
    "    plt.title(title)\n",
    "    plt.colorbar()\n",
    "    tick_marks = np.arange(len(classes))\n",
    "    plt.xticks(tick_marks, classes, rotation=45)\n",
    "    plt.yticks(tick_marks, classes)\n",
    "\n",
    "    if normalize:\n",
    "        cm = cm.astype('float') / cm.sum(axis=1)[:, np.newaxis]\n",
    "        print(\"Normalized confusion matrix\")\n",
    "    else:\n",
    "        print('Confusion matrix, without normalization')\n",
    "\n",
    "    thresh = cm.max() / 2.\n",
    "    for i, j in itertools.product(range(cm.shape[0]), range(cm.shape[1])):\n",
    "        plt.text(j, i, cm[i, j],\n",
    "                 horizontalalignment=\"center\",\n",
    "                 color=\"white\" if cm[i, j] > thresh else \"black\")\n",
    "\n",
    "    plt.tight_layout()\n",
    "    plt.ylabel('True label')\n",
    "    plt.xlabel('Predicted label')"
   ]
  },
  {
   "cell_type": "code",
   "execution_count": 25,
   "id": "cd551b39",
   "metadata": {},
   "outputs": [
    {
     "name": "stdout",
     "output_type": "stream",
     "text": [
      "Confusion matrix, without normalization\n"
     ]
    },
    {
     "data": {
      "image/png": "[encoded data removed]",
      "text/plain": [
       "<Figure size 1440x1440 with 2 Axes>"
      ]
     },
     "metadata": {
      "needs_background": "light"
     },
     "output_type": "display_data"
    }
   ],
   "source": [
    "plt.figure(figsize=(20,20))\n",
    "plot_confusion_matrix(matrix, classes=['XHO','ENG','NSO','VEN','TSN','NBL','ZUL','SSW','TSO','SOT','AFR'])"
   ]
  },
  {
   "cell_type": "markdown",
   "id": "1024e898",
   "metadata": {},
   "source": [
    "<a id=\"one\"></a>\n",
    " ## 8. Kaggle Predict Submission\n",
    " <a href=#cont>Back to Table of Contents</a>\n",
    "\n",
    "let's prepare the csv file that we will submit to kaggle for the competition."
   ]
  },
  {
   "cell_type": "code",
   "execution_count": 21,
   "id": "930de680",
   "metadata": {},
   "outputs": [],
   "source": [
    "# Generate predictions\n",
    "pred_test = model.predict(X_pred)"
   ]
  },
  {
   "cell_type": "code",
   "execution_count": 22,
   "id": "98c87cd8",
   "metadata": {},
   "outputs": [
    {
     "data": {
      "text/html": [
       "<div>\n",
       "<style scoped>\n",
       "    .dataframe tbody tr th:only-of-type {\n",
       "        vertical-align: middle;\n",
       "    }\n",
       "\n",
       "    .dataframe tbody tr th {\n",
       "        vertical-align: top;\n",
       "    }\n",
       "\n",
       "    .dataframe thead th {\n",
       "        text-align: right;\n",
       "    }\n",
       "</style>\n",
       "<table border=\"1\" class=\"dataframe\">\n",
       "  <thead>\n",
       "    <tr style=\"text-align: right;\">\n",
       "      <th></th>\n",
       "      <th>index</th>\n",
       "      <th>lang_id</th>\n",
       "    </tr>\n",
       "  </thead>\n",
       "  <tbody>\n",
       "    <tr>\n",
       "      <th>0</th>\n",
       "      <td>1</td>\n",
       "      <td>6</td>\n",
       "    </tr>\n",
       "    <tr>\n",
       "      <th>1</th>\n",
       "      <td>2</td>\n",
       "      <td>2</td>\n",
       "    </tr>\n",
       "    <tr>\n",
       "      <th>2</th>\n",
       "      <td>3</td>\n",
       "      <td>8</td>\n",
       "    </tr>\n",
       "    <tr>\n",
       "      <th>3</th>\n",
       "      <td>4</td>\n",
       "      <td>5</td>\n",
       "    </tr>\n",
       "    <tr>\n",
       "      <th>4</th>\n",
       "      <td>5</td>\n",
       "      <td>0</td>\n",
       "    </tr>\n",
       "    <tr>\n",
       "      <th>5</th>\n",
       "      <td>6</td>\n",
       "      <td>3</td>\n",
       "    </tr>\n",
       "    <tr>\n",
       "      <th>6</th>\n",
       "      <td>7</td>\n",
       "      <td>1</td>\n",
       "    </tr>\n",
       "    <tr>\n",
       "      <th>7</th>\n",
       "      <td>8</td>\n",
       "      <td>4</td>\n",
       "    </tr>\n",
       "    <tr>\n",
       "      <th>8</th>\n",
       "      <td>9</td>\n",
       "      <td>10</td>\n",
       "    </tr>\n",
       "    <tr>\n",
       "      <th>9</th>\n",
       "      <td>10</td>\n",
       "      <td>1</td>\n",
       "    </tr>\n",
       "  </tbody>\n",
       "</table>\n",
       "</div>"
      ],
      "text/plain": [
       "   index  lang_id\n",
       "0      1        6\n",
       "1      2        2\n",
       "2      3        8\n",
       "3      4        5\n",
       "4      5        0\n",
       "5      6        3\n",
       "6      7        1\n",
       "7      8        4\n",
       "8      9       10\n",
       "9     10        1"
      ]
     },
     "execution_count": 22,
     "metadata": {},
     "output_type": "execute_result"
    }
   ],
   "source": [
    "# Create csv file\n",
    "\n",
    "index=test_df['index']\n",
    "model_df = pd.DataFrame({'index':index, 'lang_id':pred_test})\n",
    "\n",
    "\n",
    "model_df.to_csv('submission.csv', index=False)\n",
    "\n",
    "model_df.head(10)"
   ]
  },
  {
   "cell_type": "code",
   "execution_count": null,
   "id": "29f20197",
   "metadata": {},
   "outputs": [],
   "source": []
  },
  {
   "cell_type": "code",
   "execution_count": null,
   "id": "37523404",
   "metadata": {},
   "outputs": [],
   "source": []
  }
 ],
 "metadata": {
  "kernelspec": {
   "display_name": "Python 3 (ipykernel)",
   "language": "python",
   "name": "python3"
  },
  "language_info": {
   "codemirror_mode": {
    "name": "ipython",
    "version": 3
   },
   "file_extension": ".py",
   "mimetype": "text/x-python",
   "name": "python",
   "nbconvert_exporter": "python",
   "pygments_lexer": "ipython3",
   "version": "3.9.12"
  }
 },
 "nbformat": 4,
 "nbformat_minor": 5
}
